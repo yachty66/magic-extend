{
 "cells": [
  {
   "cell_type": "markdown",
   "metadata": {},
   "source": [
    "### first get the starting image of the soccer player we wanna use\n",
    "\n",
    "1. Go to Google and find a Soccer player best case his full body is becoming visible in the video"
   ]
  },
  {
   "cell_type": "markdown",
   "metadata": {},
   "source": [
    "### next make a script with prompts for 6 scenes for 30 seconds of video\n",
    "\n",
    "Scene 1: Make him celebrate \n",
    "\n",
    "Scene 2: Make him twerk\n",
    "\n",
    "Scene 3: Make him put his hands in the air \n",
    "\n",
    "Scene 4: Make him run away"
   ]
  },
  {
   "cell_type": "markdown",
   "metadata": {},
   "source": [
    "### produce the video by using python script to extract the last frame of the previous video and inputting it into the next one\n",
    "\n",
    "for producing the videos i am using Seedance Pro I2V inside the https://www.unitedcompute.ai AI editor"
   ]
  },
  {
   "cell_type": "markdown",
   "metadata": {},
   "source": [
    "### finding an appropriate track I can play in the background and using ytdl for downloading the song and then putting all together in the www.unitedcompute.ai editor"
   ]
  },
  {
   "cell_type": "code",
   "execution_count": 2,
   "metadata": {},
   "outputs": [],
   "source": [
    "import cv2\n",
    "import os\n",
    "\n",
    "def extract_last_frame(video_path, output_path=None):\n",
    "    \"\"\"\n",
    "    Extract the last frame from a video and save it as an image.\n",
    "    \n",
    "    Args:\n",
    "        video_path (str): Path to the input video file\n",
    "        output_path (str): Path to save the output image (optional)\n",
    "    \n",
    "    Returns:\n",
    "        str: Path to the saved image file\n",
    "    \"\"\"\n",
    "    # Check if video file exists\n",
    "    if not os.path.exists(video_path):\n",
    "        raise FileNotFoundError(f\"Video file not found: {video_path}\")\n",
    "    \n",
    "    # Open the video\n",
    "    cap = cv2.VideoCapture(video_path)\n",
    "    \n",
    "    if not cap.isOpened():\n",
    "        raise ValueError(f\"Could not open video file: {video_path}\")\n",
    "    \n",
    "    # Get total number of frames\n",
    "    total_frames = int(cap.get(cv2.CAP_PROP_FRAME_COUNT))\n",
    "    print(f\"Total frames in video: {total_frames}\")\n",
    "    \n",
    "    # Set position to the last frame (frame numbers are 0-indexed)\n",
    "    cap.set(cv2.CAP_PROP_POS_FRAMES, total_frames - 1)\n",
    "    \n",
    "    # Read the last frame\n",
    "    ret, frame = cap.read()\n",
    "    \n",
    "    if not ret:\n",
    "        cap.release()\n",
    "        raise ValueError(\"Could not read the last frame from the video\")\n",
    "    \n",
    "    # Generate output path if not provided\n",
    "    if output_path is None:\n",
    "        video_name = os.path.splitext(os.path.basename(video_path))[0]\n",
    "        output_path = f\"{video_name}_last_frame.jpg\"\n",
    "    \n",
    "    # Save the frame\n",
    "    success = cv2.imwrite(output_path, frame)\n",
    "    \n",
    "    # Release the video capture object\n",
    "    cap.release()\n",
    "    \n",
    "    if success:\n",
    "        print(f\"Last frame saved successfully to: {output_path}\")\n",
    "        return output_path\n",
    "    else:\n",
    "        raise ValueError(f\"Failed to save frame to: {output_path}\")"
   ]
  },
  {
   "cell_type": "code",
   "execution_count": 7,
   "metadata": {},
   "outputs": [
    {
     "name": "stdout",
     "output_type": "stream",
     "text": [
      "Total frames in video: 121\n",
      "Last frame saved successfully to: ronaldo4.jpg\n"
     ]
    }
   ],
   "source": [
    "# Extract last frame with custom output name\n",
    "output_path = extract_last_frame(\"ronaldo4.mp4\", \"ronaldo4.jpg\")"
   ]
  },
  {
   "cell_type": "code",
   "execution_count": null,
   "metadata": {},
   "outputs": [],
   "source": []
  }
 ],
 "metadata": {
  "kernelspec": {
   "display_name": "base",
   "language": "python",
   "name": "python3"
  },
  "language_info": {
   "codemirror_mode": {
    "name": "ipython",
    "version": 3
   },
   "file_extension": ".py",
   "mimetype": "text/x-python",
   "name": "python",
   "nbconvert_exporter": "python",
   "pygments_lexer": "ipython3",
   "version": "3.11.10"
  }
 },
 "nbformat": 4,
 "nbformat_minor": 2
}
